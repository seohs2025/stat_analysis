{
 "cells": [
  {
   "cell_type": "code",
   "execution_count": 1,
   "id": "cfc0eaa9-dde2-42a3-9796-1ae7ab9d254b",
   "metadata": {},
   "outputs": [],
   "source": [
    "a = 'I want to be a programmer'"
   ]
  },
  {
   "cell_type": "code",
   "execution_count": 2,
   "id": "99528c61-ba0e-46cb-bc33-245cbe10524f",
   "metadata": {},
   "outputs": [],
   "source": [
    "b = a + ', really'"
   ]
  },
  {
   "cell_type": "code",
   "execution_count": 3,
   "id": "6fc50106-c1f6-4e18-a75d-370b7a203cb1",
   "metadata": {},
   "outputs": [
    {
     "name": "stdout",
     "output_type": "stream",
     "text": [
      "I want to be a programmer, really\n"
     ]
    }
   ],
   "source": [
    "print(b)"
   ]
  },
  {
   "cell_type": "code",
   "execution_count": 4,
   "id": "21863c32-0665-4b09-962f-9e87abeab315",
   "metadata": {},
   "outputs": [],
   "source": [
    "a = 'hello' * 3"
   ]
  },
  {
   "cell_type": "code",
   "execution_count": 5,
   "id": "1d5cbb77-1b24-4a3b-a095-c36db17834d6",
   "metadata": {},
   "outputs": [
    {
     "name": "stdout",
     "output_type": "stream",
     "text": [
      "hellohellohello\n"
     ]
    }
   ],
   "source": [
    "print(a)"
   ]
  },
  {
   "cell_type": "code",
   "execution_count": 6,
   "id": "ada4a4bb-a590-4d5d-932e-ed3d9144b97e",
   "metadata": {},
   "outputs": [],
   "source": [
    "a = 'Hello World'"
   ]
  },
  {
   "cell_type": "code",
   "execution_count": 7,
   "id": "87ad5b2d-3f42-4b3b-b165-fa78c943fba7",
   "metadata": {},
   "outputs": [
    {
     "name": "stdout",
     "output_type": "stream",
     "text": [
      "['Hello', 'World']\n"
     ]
    }
   ],
   "source": [
    "print(a.split())"
   ]
  },
  {
   "cell_type": "code",
   "execution_count": 1,
   "id": "24b59808-fa3c-4fc7-b521-156f9bbaba8b",
   "metadata": {},
   "outputs": [
    {
     "name": "stdout",
     "output_type": "stream",
     "text": [
      "['癤퓋tudent number', 'english', 'mathematics']\n",
      "['1', '42', '65']\n",
      "['2', '69', '80']\n",
      "['3', '56', '63']\n",
      "['4', '41', '63']\n",
      "['5', '57', '76']\n",
      "['6', '48', '60']\n",
      "['7', '65', '81']\n",
      "['8', '49', '66']\n",
      "['9', '65', '78']\n",
      "['10', '58', '82']\n",
      "['11', '70', '94']\n",
      "['12', '47', '75']\n",
      "['13', '51', '70']\n",
      "['14', '64', '77']\n",
      "['15', '62', '84']\n",
      "['16', '70', '84']\n",
      "['17', '71', '82']\n",
      "['18', '68', '85']\n",
      "['19', '73', '90']\n",
      "['20', '37', '70']\n",
      "['21', '65', '78']\n",
      "['22', '65', '93']\n",
      "['23', '61', '77']\n",
      "['24', '52', '88']\n",
      "['25', '57', '82']\n",
      "['26', '57', '76']\n",
      "['27', '75', '87']\n",
      "['28', '61', '84']\n",
      "['29', '47', '77']\n",
      "['30', '54', '82']\n",
      "['31', '66', '91']\n",
      "['32', '54', '75']\n",
      "['33', '54', '76']\n",
      "['34', '42', '78']\n",
      "['35', '37', '57']\n",
      "['36', '79', '89']\n",
      "['37', '56', '83']\n",
      "['38', '62', '69']\n",
      "['39', '62', '86']\n",
      "['40', '55', '81']\n",
      "['41', '63', '81']\n",
      "['42', '57', '80']\n",
      "['43', '57', '79']\n",
      "['44', '67', '87']\n",
      "['45', '55', '84']\n",
      "['46', '45', '71']\n",
      "['47', '66', '80']\n",
      "['48', '55', '77']\n",
      "['49', '64', '83']\n",
      "['50', '66', '88']\n"
     ]
    }
   ],
   "source": [
    "import csv\n",
    "f = open('./data/ch2_scores_em.csv', encoding = 'cp949')\n",
    "data = csv.reader(f)\n",
    "for row in data:\n",
    "    print(row)\n",
    "f.close()"
   ]
  },
  {
   "cell_type": "code",
   "execution_count": null,
   "id": "de6230fd-66a7-434a-9826-b1e2186608eb",
   "metadata": {},
   "outputs": [],
   "source": []
  }
 ],
 "metadata": {
  "kernelspec": {
   "display_name": "Python 3 (ipykernel)",
   "language": "python",
   "name": "python3"
  },
  "language_info": {
   "codemirror_mode": {
    "name": "ipython",
    "version": 3
   },
   "file_extension": ".py",
   "mimetype": "text/x-python",
   "name": "python",
   "nbconvert_exporter": "python",
   "pygments_lexer": "ipython3",
   "version": "3.13.7"
  }
 },
 "nbformat": 4,
 "nbformat_minor": 5
}
